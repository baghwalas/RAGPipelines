{
 "cells": [
  {
   "cell_type": "code",
   "execution_count": 6,
   "id": "cb5513d2-7360-49e2-965e-39c4a5510fb3",
   "metadata": {},
   "outputs": [
    {
     "name": "stderr",
     "output_type": "stream",
     "text": [
      "c:\\users\\sbagh\\appdata\\local\\programs\\python\\python39\\lib\\site-packages\\huggingface_hub\\file_download.py:157: UserWarning: `huggingface_hub` cache-system uses symlinks by default to efficiently store duplicated files but your machine does not support them in C:\\Users\\sbagh\\.cache\\huggingface\\hub\\models--sentence-transformers--all-MiniLM-L6-v2. Caching files will still work but in a degraded version that might require more space on your disk. This warning can be disabled by setting the `HF_HUB_DISABLE_SYMLINKS_WARNING` environment variable. For more details, see https://huggingface.co/docs/huggingface_hub/how-to-cache#limitations.\n",
      "To support symlinks on Windows, you either need to activate Developer Mode or to run Python as an administrator. In order to see activate developer mode, see this article: https://docs.microsoft.com/en-us/windows/apps/get-started/enable-your-device-for-development\n",
      "  warnings.warn(message)\n"
     ]
    }
   ],
   "source": [
    "from sentence_transformers import SentenceTransformer\n",
    "import faiss\n",
    "import numpy as np\n",
    "\n",
    "model = SentenceTransformer('all-MiniLM-L6-v2')\n",
    "\n",
    "# Example documents (Replace with actual documents from MIMIC-III)\n",
    "documents = [\n",
    "    \"Patient was diagnosed with pneumonia and treated with antibiotics.\",\n",
    "    \"The patient has a history of hypertension and diabetes.\",\n",
    "    \"Symptoms included fever, cough, and shortness of breath.\"\n",
    "]\n",
    "\n",
    "def generate_embeddings(documents):\n",
    "    return model.encode(documents)\n",
    "\n",
    "def create_index(embeddings):\n",
    "    index = faiss.IndexFlatL2(embeddings.shape[1])\n",
    "    index.add(np.array(embeddings))\n",
    "    return index\n",
    "\n",
    "def retrieve_document(query, model, index, documents):\n",
    "    query_embedding = model.encode([query])\n",
    "    D, I = index.search(np.array(query_embedding), k=1)\n",
    "    return documents[I[0][0]]\n",
    "\n",
    "def generate_response(query, model, index, documents):\n",
    "    retrieved_doc = retrieve_document(query, model, index, documents)\n",
    "    return f\"Generated response based on: {retrieved_doc}\"\n",
    "\n",
    "embeddings = generate_embeddings(documents)\n",
    "index = create_index(embeddings)\n"
   ]
  },
  {
   "cell_type": "code",
   "execution_count": 7,
   "id": "7716e484-6bf0-4051-a4f6-bc832090e9bb",
   "metadata": {},
   "outputs": [
    {
     "name": "stdout",
     "output_type": "stream",
     "text": [
      "Generated response based on: Symptoms included fever, cough, and shortness of breath.\n"
     ]
    }
   ],
   "source": [
    "query = \"What are the symptoms of COVID-19?\"\n",
    "response = generate_response(query, model, index, documents)\n",
    "print(response)\n"
   ]
  },
  {
   "cell_type": "code",
   "execution_count": null,
   "id": "22235269-d826-45ec-9d28-b024a69c1b30",
   "metadata": {},
   "outputs": [],
   "source": []
  }
 ],
 "metadata": {
  "kernelspec": {
   "display_name": "Python 3 (ipykernel)",
   "language": "python",
   "name": "python3"
  },
  "language_info": {
   "codemirror_mode": {
    "name": "ipython",
    "version": 3
   },
   "file_extension": ".py",
   "mimetype": "text/x-python",
   "name": "python",
   "nbconvert_exporter": "python",
   "pygments_lexer": "ipython3",
   "version": "3.9.0"
  }
 },
 "nbformat": 4,
 "nbformat_minor": 5
}
